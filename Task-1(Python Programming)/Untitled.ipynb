{
 "cells": [
  {
   "cell_type": "code",
   "execution_count": 2,
   "metadata": {},
   "outputs": [
    {
     "name": "stdout",
     "output_type": "stream",
     "text": [
      "Hello, World! \n"
     ]
    }
   ],
   "source": [
    "# Que 1 :Printing hello world\n",
    "\n",
    "print(\"Hello, World! \")"
   ]
  },
  {
   "cell_type": "code",
   "execution_count": 14,
   "metadata": {},
   "outputs": [
    {
     "name": "stdout",
     "output_type": "stream",
     "text": [
      "enter number :3\n",
      "Weird\n"
     ]
    }
   ],
   "source": [
    "# Que 2 : Python If-Else\n",
    "\n",
    "import math\n",
    "import os\n",
    "import random\n",
    "import re\n",
    "import sys\n",
    "# raw_input\n",
    "\n",
    "if __name__ == '__main__':\n",
    "    n = int(input(\"enter number :\").strip())\n",
    "    check={True : \"Not Weird\" , False: \"Weird\"}\n",
    "    print(check[n%2==0 and (n in range(2,6) or n>20)])"
   ]
  },
  {
   "cell_type": "code",
   "execution_count": 13,
   "metadata": {},
   "outputs": [
    {
     "name": "stdout",
     "output_type": "stream",
     "text": [
      "enter first number :12\n",
      "enter second number10\n",
      "22\n",
      "2\n",
      "120\n"
     ]
    }
   ],
   "source": [
    "# Que 3: Arithmetic Operator\n",
    "\n",
    "if __name__ == '__main__':\n",
    "    a = int(input(\"enter first number :\"))\n",
    "    b = int(input(\"enter second number\"))\n",
    "    print(a+b)\n",
    "    print(a-b)\n",
    "    print(a*b)"
   ]
  },
  {
   "cell_type": "code",
   "execution_count": 16,
   "metadata": {},
   "outputs": [
    {
     "name": "stdout",
     "output_type": "stream",
     "text": [
      "enter first number :4\n",
      "enter second number :3\n",
      "1\n",
      "1.3333333333333333\n"
     ]
    }
   ],
   "source": [
    "# Que 4: Division\n",
    "\n",
    "from __future__ import division\n",
    "\n",
    "if __name__ == '__main__':\n",
    "    a = int(input(\"enter first number :\"))\n",
    "    b = int(input(\"enter second number :\"))\n",
    "\n",
    "print(a//b)\n",
    "print(a/b)\n"
   ]
  },
  {
   "cell_type": "code",
   "execution_count": 18,
   "metadata": {},
   "outputs": [
    {
     "name": "stdout",
     "output_type": "stream",
     "text": [
      "enter a number :5\n",
      "0\n",
      "1\n",
      "4\n",
      "9\n",
      "16\n"
     ]
    }
   ],
   "source": [
    "# Que 5 : Loops\n",
    "\n",
    "if __name__ == '__main__':\n",
    "    \n",
    "    n = int(input(\"enter a number :\"))\n",
    "    i=0\n",
    "    while(i<n):\n",
    "        print(i*i)\n",
    "        i+=1"
   ]
  },
  {
   "cell_type": "code",
   "execution_count": 20,
   "metadata": {},
   "outputs": [
    {
     "name": "stdout",
     "output_type": "stream",
     "text": [
      "enter a number :1990\n",
      "False\n"
     ]
    }
   ],
   "source": [
    "# Que 6 :Write a function \n",
    "\n",
    "def is_leap(year):\n",
    "    leap = False\n",
    "    return year%4==0 and(year%400==0 or year%100!=0)  \n",
    "    return leap\n",
    "\n",
    "year = int(input(\"enter a number :\"))\n",
    "print(is_leap(year))"
   ]
  },
  {
   "cell_type": "code",
   "execution_count": 21,
   "metadata": {},
   "outputs": [
    {
     "name": "stdout",
     "output_type": "stream",
     "text": [
      "enter a number :3\n",
      "123"
     ]
    }
   ],
   "source": [
    "# Que 7 : Print Function\n",
    "\n",
    "from __future__ import print_function\n",
    "\n",
    "if __name__ == '__main__':\n",
    "    n = int(input(\"enter a number :\"))\n",
    "\n",
    "    for i in range(1,n+1):\n",
    "        print(i,end=\"\")"
   ]
  },
  {
   "cell_type": "code",
   "execution_count": null,
   "metadata": {},
   "outputs": [],
   "source": []
  }
 ],
 "metadata": {
  "kernelspec": {
   "display_name": "Python 3",
   "language": "python",
   "name": "python3"
  },
  "language_info": {
   "codemirror_mode": {
    "name": "ipython",
    "version": 3
   },
   "file_extension": ".py",
   "mimetype": "text/x-python",
   "name": "python",
   "nbconvert_exporter": "python",
   "pygments_lexer": "ipython3",
   "version": "3.8.5"
  }
 },
 "nbformat": 4,
 "nbformat_minor": 4
}
