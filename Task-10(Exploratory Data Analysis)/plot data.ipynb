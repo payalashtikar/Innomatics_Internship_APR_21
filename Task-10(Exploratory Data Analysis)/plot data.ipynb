{
 "cells": [
  {
   "cell_type": "code",
   "execution_count": 1,
   "metadata": {},
   "outputs": [],
   "source": [
    "# importing libraries\n",
    "\n",
    "import pandas as pd\n",
    "import numpy as np\n",
    "import matplotlib.pyplot as plt\n",
    "import seaborn as sns"
   ]
  },
  {
   "cell_type": "code",
   "execution_count": 2,
   "metadata": {},
   "outputs": [
    {
     "data": {
      "text/html": [
       "<div>\n",
       "<style scoped>\n",
       "    .dataframe tbody tr th:only-of-type {\n",
       "        vertical-align: middle;\n",
       "    }\n",
       "\n",
       "    .dataframe tbody tr th {\n",
       "        vertical-align: top;\n",
       "    }\n",
       "\n",
       "    .dataframe thead th {\n",
       "        text-align: right;\n",
       "    }\n",
       "</style>\n",
       "<table border=\"1\" class=\"dataframe\">\n",
       "  <thead>\n",
       "    <tr style=\"text-align: right;\">\n",
       "      <th></th>\n",
       "      <th>Unnamed: 0</th>\n",
       "      <th>ID</th>\n",
       "      <th>Salary</th>\n",
       "      <th>DOJ</th>\n",
       "      <th>DOL</th>\n",
       "      <th>Designation</th>\n",
       "      <th>JobCity</th>\n",
       "      <th>Gender</th>\n",
       "      <th>DOB</th>\n",
       "      <th>10percentage</th>\n",
       "      <th>...</th>\n",
       "      <th>ComputerScience</th>\n",
       "      <th>MechanicalEngg</th>\n",
       "      <th>ElectricalEngg</th>\n",
       "      <th>TelecomEngg</th>\n",
       "      <th>CivilEngg</th>\n",
       "      <th>conscientiousness</th>\n",
       "      <th>agreeableness</th>\n",
       "      <th>extraversion</th>\n",
       "      <th>nueroticism</th>\n",
       "      <th>openess_to_experience</th>\n",
       "    </tr>\n",
       "  </thead>\n",
       "  <tbody>\n",
       "    <tr>\n",
       "      <th>0</th>\n",
       "      <td>train</td>\n",
       "      <td>203097</td>\n",
       "      <td>420000</td>\n",
       "      <td>2012-06-01</td>\n",
       "      <td>present</td>\n",
       "      <td>senior quality engineer</td>\n",
       "      <td>Bangalore</td>\n",
       "      <td>f</td>\n",
       "      <td>1990-02-19</td>\n",
       "      <td>84.30</td>\n",
       "      <td>...</td>\n",
       "      <td>-1</td>\n",
       "      <td>-1</td>\n",
       "      <td>-1</td>\n",
       "      <td>-1</td>\n",
       "      <td>-1</td>\n",
       "      <td>0.9737</td>\n",
       "      <td>0.8128</td>\n",
       "      <td>0.5269</td>\n",
       "      <td>1.35490</td>\n",
       "      <td>-0.4455</td>\n",
       "    </tr>\n",
       "    <tr>\n",
       "      <th>1</th>\n",
       "      <td>train</td>\n",
       "      <td>579905</td>\n",
       "      <td>500000</td>\n",
       "      <td>2013-09-01</td>\n",
       "      <td>present</td>\n",
       "      <td>assistant manager</td>\n",
       "      <td>Indore</td>\n",
       "      <td>m</td>\n",
       "      <td>1989-10-04</td>\n",
       "      <td>85.40</td>\n",
       "      <td>...</td>\n",
       "      <td>-1</td>\n",
       "      <td>-1</td>\n",
       "      <td>-1</td>\n",
       "      <td>-1</td>\n",
       "      <td>-1</td>\n",
       "      <td>-0.7335</td>\n",
       "      <td>0.3789</td>\n",
       "      <td>1.2396</td>\n",
       "      <td>-0.10760</td>\n",
       "      <td>0.8637</td>\n",
       "    </tr>\n",
       "    <tr>\n",
       "      <th>2</th>\n",
       "      <td>train</td>\n",
       "      <td>810601</td>\n",
       "      <td>325000</td>\n",
       "      <td>2014-06-01</td>\n",
       "      <td>present</td>\n",
       "      <td>systems engineer</td>\n",
       "      <td>Chennai</td>\n",
       "      <td>f</td>\n",
       "      <td>1992-08-03</td>\n",
       "      <td>85.00</td>\n",
       "      <td>...</td>\n",
       "      <td>-1</td>\n",
       "      <td>-1</td>\n",
       "      <td>-1</td>\n",
       "      <td>-1</td>\n",
       "      <td>-1</td>\n",
       "      <td>0.2718</td>\n",
       "      <td>1.7109</td>\n",
       "      <td>0.1637</td>\n",
       "      <td>-0.86820</td>\n",
       "      <td>0.6721</td>\n",
       "    </tr>\n",
       "    <tr>\n",
       "      <th>3</th>\n",
       "      <td>train</td>\n",
       "      <td>267447</td>\n",
       "      <td>1100000</td>\n",
       "      <td>2011-07-01</td>\n",
       "      <td>present</td>\n",
       "      <td>senior software engineer</td>\n",
       "      <td>Gurgaon</td>\n",
       "      <td>m</td>\n",
       "      <td>1989-12-05</td>\n",
       "      <td>85.60</td>\n",
       "      <td>...</td>\n",
       "      <td>-1</td>\n",
       "      <td>-1</td>\n",
       "      <td>-1</td>\n",
       "      <td>-1</td>\n",
       "      <td>-1</td>\n",
       "      <td>0.0464</td>\n",
       "      <td>0.3448</td>\n",
       "      <td>-0.3440</td>\n",
       "      <td>-0.40780</td>\n",
       "      <td>-0.9194</td>\n",
       "    </tr>\n",
       "    <tr>\n",
       "      <th>4</th>\n",
       "      <td>train</td>\n",
       "      <td>343523</td>\n",
       "      <td>200000</td>\n",
       "      <td>2014-03-01</td>\n",
       "      <td>2015-03-01 00:00:00</td>\n",
       "      <td>get</td>\n",
       "      <td>Manesar</td>\n",
       "      <td>m</td>\n",
       "      <td>1991-02-27</td>\n",
       "      <td>78.00</td>\n",
       "      <td>...</td>\n",
       "      <td>-1</td>\n",
       "      <td>-1</td>\n",
       "      <td>-1</td>\n",
       "      <td>-1</td>\n",
       "      <td>-1</td>\n",
       "      <td>-0.8810</td>\n",
       "      <td>-0.2793</td>\n",
       "      <td>-1.0697</td>\n",
       "      <td>0.09163</td>\n",
       "      <td>-0.1295</td>\n",
       "    </tr>\n",
       "    <tr>\n",
       "      <th>...</th>\n",
       "      <td>...</td>\n",
       "      <td>...</td>\n",
       "      <td>...</td>\n",
       "      <td>...</td>\n",
       "      <td>...</td>\n",
       "      <td>...</td>\n",
       "      <td>...</td>\n",
       "      <td>...</td>\n",
       "      <td>...</td>\n",
       "      <td>...</td>\n",
       "      <td>...</td>\n",
       "      <td>...</td>\n",
       "      <td>...</td>\n",
       "      <td>...</td>\n",
       "      <td>...</td>\n",
       "      <td>...</td>\n",
       "      <td>...</td>\n",
       "      <td>...</td>\n",
       "      <td>...</td>\n",
       "      <td>...</td>\n",
       "      <td>...</td>\n",
       "    </tr>\n",
       "    <tr>\n",
       "      <th>3993</th>\n",
       "      <td>train</td>\n",
       "      <td>47916</td>\n",
       "      <td>280000</td>\n",
       "      <td>2011-10-01</td>\n",
       "      <td>2012-10-01 00:00:00</td>\n",
       "      <td>software engineer</td>\n",
       "      <td>New Delhi</td>\n",
       "      <td>m</td>\n",
       "      <td>1987-04-15</td>\n",
       "      <td>52.09</td>\n",
       "      <td>...</td>\n",
       "      <td>-1</td>\n",
       "      <td>-1</td>\n",
       "      <td>-1</td>\n",
       "      <td>-1</td>\n",
       "      <td>-1</td>\n",
       "      <td>-0.1082</td>\n",
       "      <td>0.3448</td>\n",
       "      <td>0.2366</td>\n",
       "      <td>0.64980</td>\n",
       "      <td>-0.9194</td>\n",
       "    </tr>\n",
       "    <tr>\n",
       "      <th>3994</th>\n",
       "      <td>train</td>\n",
       "      <td>752781</td>\n",
       "      <td>100000</td>\n",
       "      <td>2013-07-01</td>\n",
       "      <td>2013-07-01 00:00:00</td>\n",
       "      <td>technical writer</td>\n",
       "      <td>Hyderabad</td>\n",
       "      <td>f</td>\n",
       "      <td>1992-08-27</td>\n",
       "      <td>90.00</td>\n",
       "      <td>...</td>\n",
       "      <td>-1</td>\n",
       "      <td>-1</td>\n",
       "      <td>-1</td>\n",
       "      <td>-1</td>\n",
       "      <td>-1</td>\n",
       "      <td>-0.3027</td>\n",
       "      <td>0.8784</td>\n",
       "      <td>0.9322</td>\n",
       "      <td>0.77980</td>\n",
       "      <td>-0.0943</td>\n",
       "    </tr>\n",
       "    <tr>\n",
       "      <th>3995</th>\n",
       "      <td>train</td>\n",
       "      <td>355888</td>\n",
       "      <td>320000</td>\n",
       "      <td>2013-07-01</td>\n",
       "      <td>present</td>\n",
       "      <td>associate software engineer</td>\n",
       "      <td>Bangalore</td>\n",
       "      <td>m</td>\n",
       "      <td>1991-07-03</td>\n",
       "      <td>81.86</td>\n",
       "      <td>...</td>\n",
       "      <td>-1</td>\n",
       "      <td>-1</td>\n",
       "      <td>-1</td>\n",
       "      <td>-1</td>\n",
       "      <td>-1</td>\n",
       "      <td>-1.5765</td>\n",
       "      <td>-1.5273</td>\n",
       "      <td>-1.5051</td>\n",
       "      <td>-1.31840</td>\n",
       "      <td>-0.7615</td>\n",
       "    </tr>\n",
       "    <tr>\n",
       "      <th>3996</th>\n",
       "      <td>train</td>\n",
       "      <td>947111</td>\n",
       "      <td>200000</td>\n",
       "      <td>2014-07-01</td>\n",
       "      <td>2015-01-01 00:00:00</td>\n",
       "      <td>software developer</td>\n",
       "      <td>Asifabadbanglore</td>\n",
       "      <td>f</td>\n",
       "      <td>1992-03-20</td>\n",
       "      <td>78.72</td>\n",
       "      <td>...</td>\n",
       "      <td>438</td>\n",
       "      <td>-1</td>\n",
       "      <td>-1</td>\n",
       "      <td>-1</td>\n",
       "      <td>-1</td>\n",
       "      <td>-0.1590</td>\n",
       "      <td>0.0459</td>\n",
       "      <td>-0.4511</td>\n",
       "      <td>-0.36120</td>\n",
       "      <td>-0.0943</td>\n",
       "    </tr>\n",
       "    <tr>\n",
       "      <th>3997</th>\n",
       "      <td>train</td>\n",
       "      <td>324966</td>\n",
       "      <td>400000</td>\n",
       "      <td>2013-02-01</td>\n",
       "      <td>present</td>\n",
       "      <td>senior systems engineer</td>\n",
       "      <td>Chennai</td>\n",
       "      <td>f</td>\n",
       "      <td>1991-02-26</td>\n",
       "      <td>70.60</td>\n",
       "      <td>...</td>\n",
       "      <td>-1</td>\n",
       "      <td>-1</td>\n",
       "      <td>-1</td>\n",
       "      <td>-1</td>\n",
       "      <td>-1</td>\n",
       "      <td>-1.1128</td>\n",
       "      <td>-0.2793</td>\n",
       "      <td>-0.6343</td>\n",
       "      <td>1.32553</td>\n",
       "      <td>-0.6035</td>\n",
       "    </tr>\n",
       "  </tbody>\n",
       "</table>\n",
       "<p>3998 rows × 39 columns</p>\n",
       "</div>"
      ],
      "text/plain": [
       "     Unnamed: 0      ID   Salary        DOJ                  DOL  \\\n",
       "0         train  203097   420000 2012-06-01              present   \n",
       "1         train  579905   500000 2013-09-01              present   \n",
       "2         train  810601   325000 2014-06-01              present   \n",
       "3         train  267447  1100000 2011-07-01              present   \n",
       "4         train  343523   200000 2014-03-01  2015-03-01 00:00:00   \n",
       "...         ...     ...      ...        ...                  ...   \n",
       "3993      train   47916   280000 2011-10-01  2012-10-01 00:00:00   \n",
       "3994      train  752781   100000 2013-07-01  2013-07-01 00:00:00   \n",
       "3995      train  355888   320000 2013-07-01              present   \n",
       "3996      train  947111   200000 2014-07-01  2015-01-01 00:00:00   \n",
       "3997      train  324966   400000 2013-02-01              present   \n",
       "\n",
       "                      Designation           JobCity Gender        DOB  \\\n",
       "0         senior quality engineer         Bangalore      f 1990-02-19   \n",
       "1               assistant manager            Indore      m 1989-10-04   \n",
       "2                systems engineer           Chennai      f 1992-08-03   \n",
       "3        senior software engineer           Gurgaon      m 1989-12-05   \n",
       "4                             get           Manesar      m 1991-02-27   \n",
       "...                           ...               ...    ...        ...   \n",
       "3993            software engineer        New Delhi       m 1987-04-15   \n",
       "3994             technical writer         Hyderabad      f 1992-08-27   \n",
       "3995  associate software engineer         Bangalore      m 1991-07-03   \n",
       "3996           software developer  Asifabadbanglore      f 1992-03-20   \n",
       "3997      senior systems engineer           Chennai      f 1991-02-26   \n",
       "\n",
       "      10percentage  ... ComputerScience  MechanicalEngg  ElectricalEngg  \\\n",
       "0            84.30  ...              -1              -1              -1   \n",
       "1            85.40  ...              -1              -1              -1   \n",
       "2            85.00  ...              -1              -1              -1   \n",
       "3            85.60  ...              -1              -1              -1   \n",
       "4            78.00  ...              -1              -1              -1   \n",
       "...            ...  ...             ...             ...             ...   \n",
       "3993         52.09  ...              -1              -1              -1   \n",
       "3994         90.00  ...              -1              -1              -1   \n",
       "3995         81.86  ...              -1              -1              -1   \n",
       "3996         78.72  ...             438              -1              -1   \n",
       "3997         70.60  ...              -1              -1              -1   \n",
       "\n",
       "     TelecomEngg  CivilEngg  conscientiousness agreeableness extraversion  \\\n",
       "0             -1         -1             0.9737        0.8128       0.5269   \n",
       "1             -1         -1            -0.7335        0.3789       1.2396   \n",
       "2             -1         -1             0.2718        1.7109       0.1637   \n",
       "3             -1         -1             0.0464        0.3448      -0.3440   \n",
       "4             -1         -1            -0.8810       -0.2793      -1.0697   \n",
       "...          ...        ...                ...           ...          ...   \n",
       "3993          -1         -1            -0.1082        0.3448       0.2366   \n",
       "3994          -1         -1            -0.3027        0.8784       0.9322   \n",
       "3995          -1         -1            -1.5765       -1.5273      -1.5051   \n",
       "3996          -1         -1            -0.1590        0.0459      -0.4511   \n",
       "3997          -1         -1            -1.1128       -0.2793      -0.6343   \n",
       "\n",
       "      nueroticism  openess_to_experience  \n",
       "0         1.35490                -0.4455  \n",
       "1        -0.10760                 0.8637  \n",
       "2        -0.86820                 0.6721  \n",
       "3        -0.40780                -0.9194  \n",
       "4         0.09163                -0.1295  \n",
       "...           ...                    ...  \n",
       "3993      0.64980                -0.9194  \n",
       "3994      0.77980                -0.0943  \n",
       "3995     -1.31840                -0.7615  \n",
       "3996     -0.36120                -0.0943  \n",
       "3997      1.32553                -0.6035  \n",
       "\n",
       "[3998 rows x 39 columns]"
      ]
     },
     "execution_count": 2,
     "metadata": {},
     "output_type": "execute_result"
    }
   ],
   "source": [
    "# import dataset\n",
    "\n",
    "dataset=pd.read_excel('data_set.xlsx')\n",
    "dataset"
   ]
  },
  {
   "cell_type": "code",
   "execution_count": 3,
   "metadata": {},
   "outputs": [
    {
     "data": {
      "text/html": [
       "<div>\n",
       "<style scoped>\n",
       "    .dataframe tbody tr th:only-of-type {\n",
       "        vertical-align: middle;\n",
       "    }\n",
       "\n",
       "    .dataframe tbody tr th {\n",
       "        vertical-align: top;\n",
       "    }\n",
       "\n",
       "    .dataframe thead th {\n",
       "        text-align: right;\n",
       "    }\n",
       "</style>\n",
       "<table border=\"1\" class=\"dataframe\">\n",
       "  <thead>\n",
       "    <tr style=\"text-align: right;\">\n",
       "      <th></th>\n",
       "      <th>Unnamed: 0</th>\n",
       "      <th>ID</th>\n",
       "      <th>Salary</th>\n",
       "      <th>DOJ</th>\n",
       "      <th>DOL</th>\n",
       "      <th>Designation</th>\n",
       "      <th>JobCity</th>\n",
       "      <th>Gender</th>\n",
       "      <th>DOB</th>\n",
       "      <th>10percentage</th>\n",
       "      <th>...</th>\n",
       "      <th>ComputerScience</th>\n",
       "      <th>MechanicalEngg</th>\n",
       "      <th>ElectricalEngg</th>\n",
       "      <th>TelecomEngg</th>\n",
       "      <th>CivilEngg</th>\n",
       "      <th>conscientiousness</th>\n",
       "      <th>agreeableness</th>\n",
       "      <th>extraversion</th>\n",
       "      <th>nueroticism</th>\n",
       "      <th>openess_to_experience</th>\n",
       "    </tr>\n",
       "  </thead>\n",
       "  <tbody>\n",
       "    <tr>\n",
       "      <th>0</th>\n",
       "      <td>train</td>\n",
       "      <td>203097</td>\n",
       "      <td>420000</td>\n",
       "      <td>2012-06-01</td>\n",
       "      <td>present</td>\n",
       "      <td>senior quality engineer</td>\n",
       "      <td>Bangalore</td>\n",
       "      <td>f</td>\n",
       "      <td>1990-02-19</td>\n",
       "      <td>84.3</td>\n",
       "      <td>...</td>\n",
       "      <td>-1</td>\n",
       "      <td>-1</td>\n",
       "      <td>-1</td>\n",
       "      <td>-1</td>\n",
       "      <td>-1</td>\n",
       "      <td>0.9737</td>\n",
       "      <td>0.8128</td>\n",
       "      <td>0.5269</td>\n",
       "      <td>1.35490</td>\n",
       "      <td>-0.4455</td>\n",
       "    </tr>\n",
       "    <tr>\n",
       "      <th>1</th>\n",
       "      <td>train</td>\n",
       "      <td>579905</td>\n",
       "      <td>500000</td>\n",
       "      <td>2013-09-01</td>\n",
       "      <td>present</td>\n",
       "      <td>assistant manager</td>\n",
       "      <td>Indore</td>\n",
       "      <td>m</td>\n",
       "      <td>1989-10-04</td>\n",
       "      <td>85.4</td>\n",
       "      <td>...</td>\n",
       "      <td>-1</td>\n",
       "      <td>-1</td>\n",
       "      <td>-1</td>\n",
       "      <td>-1</td>\n",
       "      <td>-1</td>\n",
       "      <td>-0.7335</td>\n",
       "      <td>0.3789</td>\n",
       "      <td>1.2396</td>\n",
       "      <td>-0.10760</td>\n",
       "      <td>0.8637</td>\n",
       "    </tr>\n",
       "    <tr>\n",
       "      <th>2</th>\n",
       "      <td>train</td>\n",
       "      <td>810601</td>\n",
       "      <td>325000</td>\n",
       "      <td>2014-06-01</td>\n",
       "      <td>present</td>\n",
       "      <td>systems engineer</td>\n",
       "      <td>Chennai</td>\n",
       "      <td>f</td>\n",
       "      <td>1992-08-03</td>\n",
       "      <td>85.0</td>\n",
       "      <td>...</td>\n",
       "      <td>-1</td>\n",
       "      <td>-1</td>\n",
       "      <td>-1</td>\n",
       "      <td>-1</td>\n",
       "      <td>-1</td>\n",
       "      <td>0.2718</td>\n",
       "      <td>1.7109</td>\n",
       "      <td>0.1637</td>\n",
       "      <td>-0.86820</td>\n",
       "      <td>0.6721</td>\n",
       "    </tr>\n",
       "    <tr>\n",
       "      <th>3</th>\n",
       "      <td>train</td>\n",
       "      <td>267447</td>\n",
       "      <td>1100000</td>\n",
       "      <td>2011-07-01</td>\n",
       "      <td>present</td>\n",
       "      <td>senior software engineer</td>\n",
       "      <td>Gurgaon</td>\n",
       "      <td>m</td>\n",
       "      <td>1989-12-05</td>\n",
       "      <td>85.6</td>\n",
       "      <td>...</td>\n",
       "      <td>-1</td>\n",
       "      <td>-1</td>\n",
       "      <td>-1</td>\n",
       "      <td>-1</td>\n",
       "      <td>-1</td>\n",
       "      <td>0.0464</td>\n",
       "      <td>0.3448</td>\n",
       "      <td>-0.3440</td>\n",
       "      <td>-0.40780</td>\n",
       "      <td>-0.9194</td>\n",
       "    </tr>\n",
       "    <tr>\n",
       "      <th>4</th>\n",
       "      <td>train</td>\n",
       "      <td>343523</td>\n",
       "      <td>200000</td>\n",
       "      <td>2014-03-01</td>\n",
       "      <td>2015-03-01 00:00:00</td>\n",
       "      <td>get</td>\n",
       "      <td>Manesar</td>\n",
       "      <td>m</td>\n",
       "      <td>1991-02-27</td>\n",
       "      <td>78.0</td>\n",
       "      <td>...</td>\n",
       "      <td>-1</td>\n",
       "      <td>-1</td>\n",
       "      <td>-1</td>\n",
       "      <td>-1</td>\n",
       "      <td>-1</td>\n",
       "      <td>-0.8810</td>\n",
       "      <td>-0.2793</td>\n",
       "      <td>-1.0697</td>\n",
       "      <td>0.09163</td>\n",
       "      <td>-0.1295</td>\n",
       "    </tr>\n",
       "  </tbody>\n",
       "</table>\n",
       "<p>5 rows × 39 columns</p>\n",
       "</div>"
      ],
      "text/plain": [
       "  Unnamed: 0      ID   Salary        DOJ                  DOL  \\\n",
       "0      train  203097   420000 2012-06-01              present   \n",
       "1      train  579905   500000 2013-09-01              present   \n",
       "2      train  810601   325000 2014-06-01              present   \n",
       "3      train  267447  1100000 2011-07-01              present   \n",
       "4      train  343523   200000 2014-03-01  2015-03-01 00:00:00   \n",
       "\n",
       "                Designation    JobCity Gender        DOB  10percentage  ...  \\\n",
       "0   senior quality engineer  Bangalore      f 1990-02-19          84.3  ...   \n",
       "1         assistant manager     Indore      m 1989-10-04          85.4  ...   \n",
       "2          systems engineer    Chennai      f 1992-08-03          85.0  ...   \n",
       "3  senior software engineer    Gurgaon      m 1989-12-05          85.6  ...   \n",
       "4                       get    Manesar      m 1991-02-27          78.0  ...   \n",
       "\n",
       "  ComputerScience  MechanicalEngg  ElectricalEngg TelecomEngg  CivilEngg  \\\n",
       "0              -1              -1              -1          -1         -1   \n",
       "1              -1              -1              -1          -1         -1   \n",
       "2              -1              -1              -1          -1         -1   \n",
       "3              -1              -1              -1          -1         -1   \n",
       "4              -1              -1              -1          -1         -1   \n",
       "\n",
       "   conscientiousness agreeableness extraversion  nueroticism  \\\n",
       "0             0.9737        0.8128       0.5269      1.35490   \n",
       "1            -0.7335        0.3789       1.2396     -0.10760   \n",
       "2             0.2718        1.7109       0.1637     -0.86820   \n",
       "3             0.0464        0.3448      -0.3440     -0.40780   \n",
       "4            -0.8810       -0.2793      -1.0697      0.09163   \n",
       "\n",
       "   openess_to_experience  \n",
       "0                -0.4455  \n",
       "1                 0.8637  \n",
       "2                 0.6721  \n",
       "3                -0.9194  \n",
       "4                -0.1295  \n",
       "\n",
       "[5 rows x 39 columns]"
      ]
     },
     "execution_count": 3,
     "metadata": {},
     "output_type": "execute_result"
    }
   ],
   "source": [
    "dataset.head(5)"
   ]
  },
  {
   "cell_type": "code",
   "execution_count": 4,
   "metadata": {},
   "outputs": [
    {
     "data": {
      "text/plain": [
       "(array([[1.000e+00, 3.500e+01, 2.600e+02, 7.860e+02, 1.047e+03, 1.037e+03,\n",
       "         5.830e+02, 1.970e+02, 4.700e+01, 5.000e+00],\n",
       "        [1.000e+00, 2.500e+01, 1.700e+02, 6.380e+02, 1.228e+03, 1.283e+03,\n",
       "         5.840e+02, 6.800e+01, 1.000e+00, 0.000e+00],\n",
       "        [1.800e+01, 8.700e+01, 2.610e+02, 6.750e+02, 8.630e+02, 9.780e+02,\n",
       "         7.390e+02, 2.590e+02, 9.100e+01, 2.700e+01]]),\n",
       " array([120., 198., 276., 354., 432., 510., 588., 666., 744., 822., 900.]),\n",
       " <a list of 3 BarContainer objects>)"
      ]
     },
     "execution_count": 4,
     "metadata": {},
     "output_type": "execute_result"
    },
    {
     "data": {
      "image/png": "[encoded data removed]",
      "text/plain": [
       "<Figure size 432x288 with 1 Axes>"
      ]
     },
     "metadata": {
      "needs_background": "light"
     },
     "output_type": "display_data"
    }
   ],
   "source": [
    "# plotting histpgram (of English,Logical, Quant)\n",
    "\n",
    "plt.xlabel('subjects')\n",
    "plt.ylabel('marks')\n",
    "plt.title('checking marks of all subjects')\n",
    "\n",
    "plt.hist([dataset.English, dataset.Logical, dataset.Quant],  rwidth=0.95 , color=['orange','red','pink'])"
   ]
  },
  {
   "cell_type": "markdown",
   "metadata": {},
   "source": [
    "Observation : correlate marks each other "
   ]
  },
  {
   "cell_type": "code",
   "execution_count": null,
   "metadata": {},
   "outputs": [],
   "source": []
  },
  {
   "cell_type": "code",
   "execution_count": 7,
   "metadata": {},
   "outputs": [
    {
     "name": "stderr",
     "output_type": "stream",
     "text": [
      "C:\\ProgramData\\Anaconda3\\lib\\site-packages\\seaborn\\_decorators.py:36: FutureWarning: Pass the following variable as a keyword arg: x. From version 0.12, the only valid positional argument will be `data`, and passing other arguments without an explicit keyword will result in an error or misinterpretation.\n",
      "  warnings.warn(\n"
     ]
    },
    {
     "data": {
      "text/plain": [
       "<AxesSubplot:xlabel='Salary', ylabel='count'>"
      ]
     },
     "execution_count": 7,
     "metadata": {},
     "output_type": "execute_result"
    },
    {
     "data": {
      "image/png": "[encoded data removed]",
      "text/plain": [
       "<Figure size 432x288 with 1 Axes>"
      ]
     },
     "metadata": {
      "needs_background": "light"
     },
     "output_type": "display_data"
    }
   ],
   "source": [
    "# plotting countplot\n",
    "\n",
    "sns.countplot('Salary',data=dataset)\n"
   ]
  },
  {
   "cell_type": "markdown",
   "metadata": {},
   "source": [
    "Observation : salary data are ploted as count"
   ]
  },
  {
   "cell_type": "code",
   "execution_count": null,
   "metadata": {},
   "outputs": [],
   "source": []
  },
  {
   "cell_type": "code",
   "execution_count": 8,
   "metadata": {},
   "outputs": [
    {
     "data": {
      "text/plain": [
       "<seaborn.axisgrid.FacetGrid at 0x1d8c8d3d5b0>"
      ]
     },
     "execution_count": 8,
     "metadata": {},
     "output_type": "execute_result"
    },
    {
     "data": {
      "image/png": "[encoded data removed]",
      "text/plain": [
       "<Figure size 360x360 with 1 Axes>"
      ]
     },
     "metadata": {
      "needs_background": "light"
     },
     "output_type": "display_data"
    }
   ],
   "source": [
    "# chart for colom salary\n",
    "\n",
    "sns.displot(dataset.Salary)"
   ]
  },
  {
   "cell_type": "code",
   "execution_count": null,
   "metadata": {},
   "outputs": [],
   "source": []
  },
  {
   "cell_type": "code",
   "execution_count": null,
   "metadata": {},
   "outputs": [],
   "source": []
  },
  {
   "cell_type": "code",
   "execution_count": 9,
   "metadata": {},
   "outputs": [
    {
     "name": "stderr",
     "output_type": "stream",
     "text": [
      "C:\\ProgramData\\Anaconda3\\lib\\site-packages\\seaborn\\distributions.py:2551: FutureWarning: `distplot` is a deprecated function and will be removed in a future version. Please adapt your code to use either `displot` (a figure-level function with similar flexibility) or `histplot` (an axes-level function for histograms).\n",
      "  warnings.warn(msg, FutureWarning)\n"
     ]
    },
    {
     "data": {
      "text/plain": [
       "<AxesSubplot:xlabel='DOB'>"
      ]
     },
     "execution_count": 9,
     "metadata": {},
     "output_type": "execute_result"
    },
    {
     "data": {
      "image/png": "[encoded data removed]",
      "text/plain": [
       "<Figure size 432x288 with 1 Axes>"
      ]
     },
     "metadata": {
      "needs_background": "light"
     },
     "output_type": "display_data"
    }
   ],
   "source": [
    "sns.distplot(dataset.DOB , kde=False)"
   ]
  },
  {
   "cell_type": "code",
   "execution_count": null,
   "metadata": {},
   "outputs": [],
   "source": []
  },
  {
   "cell_type": "code",
   "execution_count": null,
   "metadata": {},
   "outputs": [],
   "source": []
  },
  {
   "cell_type": "code",
   "execution_count": 10,
   "metadata": {},
   "outputs": [
    {
     "name": "stderr",
     "output_type": "stream",
     "text": [
      "C:\\ProgramData\\Anaconda3\\lib\\site-packages\\seaborn\\distributions.py:1659: FutureWarning: The `bw` parameter is deprecated in favor of `bw_method` and `bw_adjust`. Using 100 for `bw_method`, but please see the docs for the new parameters and update your code.\n",
      "  warnings.warn(msg, FutureWarning)\n"
     ]
    },
    {
     "data": {
      "text/plain": [
       "<AxesSubplot:xlabel='DOB', ylabel='Density'>"
      ]
     },
     "execution_count": 10,
     "metadata": {},
     "output_type": "execute_result"
    },
    {
     "data": {
      "image/png": "[encoded data removed]",
      "text/plain": [
       "<Figure size 432x288 with 1 Axes>"
      ]
     },
     "metadata": {
      "needs_background": "light"
     },
     "output_type": "display_data"
    }
   ],
   "source": [
    "# bw-bandwidth\n",
    "sns.kdeplot(dataset.DOB,bw=100)"
   ]
  },
  {
   "cell_type": "code",
   "execution_count": null,
   "metadata": {},
   "outputs": [],
   "source": []
  },
  {
   "cell_type": "code",
   "execution_count": null,
   "metadata": {},
   "outputs": [],
   "source": []
  },
  {
   "cell_type": "code",
   "execution_count": 11,
   "metadata": {},
   "outputs": [
    {
     "data": {
      "text/plain": [
       "<AxesSubplot:xlabel='Salary'>"
      ]
     },
     "execution_count": 11,
     "metadata": {},
     "output_type": "execute_result"
    },
    {
     "data": {
      "image/png": "[encoded data removed]",
      "text/plain": [
       "<Figure size 432x288 with 1 Axes>"
      ]
     },
     "metadata": {
      "needs_background": "light"
     },
     "output_type": "display_data"
    }
   ],
   "source": [
    "# boxplot\n",
    "\n",
    "sns.boxplot(x=dataset.Salary)"
   ]
  },
  {
   "cell_type": "markdown",
   "metadata": {},
   "source": [
    "Observation: Salary data are plot in the form of box and they are les correlate"
   ]
  },
  {
   "cell_type": "code",
   "execution_count": null,
   "metadata": {},
   "outputs": [],
   "source": []
  },
  {
   "cell_type": "code",
   "execution_count": 12,
   "metadata": {},
   "outputs": [
    {
     "data": {
      "text/plain": [
       "<AxesSubplot:xlabel='Designation', ylabel='Salary'>"
      ]
     },
     "execution_count": 12,
     "metadata": {},
     "output_type": "execute_result"
    },
    {
     "data": {
      "image/png": "[encoded data removed]",
      "text/plain": [
       "<Figure size 432x288 with 1 Axes>"
      ]
     },
     "metadata": {
      "needs_background": "light"
     },
     "output_type": "display_data"
    }
   ],
   "source": [
    "# scatter plot\n",
    "\n",
    "dataset.plot.scatter(x='Designation', y='Salary')"
   ]
  },
  {
   "cell_type": "markdown",
   "metadata": {},
   "source": [
    "Observation: the data designation and salary are highly correlate"
   ]
  },
  {
   "cell_type": "code",
   "execution_count": null,
   "metadata": {},
   "outputs": [],
   "source": []
  },
  {
   "cell_type": "code",
   "execution_count": null,
   "metadata": {},
   "outputs": [],
   "source": []
  },
  {
   "cell_type": "code",
   "execution_count": null,
   "metadata": {},
   "outputs": [],
   "source": []
  }
 ],
 "metadata": {
  "kernelspec": {
   "display_name": "Python 3",
   "language": "python",
   "name": "python3"
  },
  "language_info": {
   "codemirror_mode": {
    "name": "ipython",
    "version": 3
   },
   "file_extension": ".py",
   "mimetype": "text/x-python",
   "name": "python",
   "nbconvert_exporter": "python",
   "pygments_lexer": "ipython3",
   "version": "3.8.5"
  }
 },
 "nbformat": 4,
 "nbformat_minor": 4
}
