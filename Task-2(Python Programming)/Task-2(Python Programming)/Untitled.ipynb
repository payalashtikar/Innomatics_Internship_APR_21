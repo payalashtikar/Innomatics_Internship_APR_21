{
 "cells": [
  {
   "cell_type": "code",
   "execution_count": 1,
   "metadata": {},
   "outputs": [
    {
     "name": "stdout",
     "output_type": "stream",
     "text": [
      "entre no. of integers for 1st set4\n",
      "2 4 5 9\n",
      "enter no of integers for 2nd set 4\n",
      "2 4 10 11\n",
      "5\n",
      "9\n",
      "10\n",
      "11\n"
     ]
    }
   ],
   "source": [
    "# Symmtric Difference\n",
    "\n",
    "a=int(input(\"entre no. of integers for 1st set\"))\n",
    "a1=set(map(int,input().split()))\n",
    "b=int(input(\"enter no of integers for 2nd set \"))\n",
    "b1=set(map(int,input().split()))\n",
    "\n",
    "res=a1.union(b1)\n",
    "# print(res)\n",
    "\n",
    "list1=[]\n",
    "for i in res:\n",
    "    if i in a1 and i in b1:\n",
    "        pass\n",
    "    else:\n",
    "        list1.append(i)\n",
    "# print(list1)\n",
    "list1.sort()\n",
    "for i in list1:\n",
    "    print(i)"
   ]
  },
  {
   "cell_type": "code",
   "execution_count": null,
   "metadata": {},
   "outputs": [],
   "source": [
    "# set.add()\n",
    "\n",
    "n=int(input(\"enter no. of integers : \"))\n",
    "a=set()\n",
    "for i in range(n):\n",
    "    a.add(input())\n",
    "print(len(a))\n"
   ]
  },
  {
   "cell_type": "code",
   "execution_count": null,
   "metadata": {},
   "outputs": [],
   "source": []
  }
 ],
 "metadata": {
  "kernelspec": {
   "display_name": "Python 3",
   "language": "python",
   "name": "python3"
  },
  "language_info": {
   "codemirror_mode": {
    "name": "ipython",
    "version": 3
   },
   "file_extension": ".py",
   "mimetype": "text/x-python",
   "name": "python",
   "nbconvert_exporter": "python",
   "pygments_lexer": "ipython3",
   "version": "3.8.5"
  }
 },
 "nbformat": 4,
 "nbformat_minor": 4
}
