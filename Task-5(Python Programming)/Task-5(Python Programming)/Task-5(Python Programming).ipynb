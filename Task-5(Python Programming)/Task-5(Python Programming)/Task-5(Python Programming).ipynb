{
 "cells": [
  {
   "cell_type": "code",
   "execution_count": 2,
   "metadata": {},
   "outputs": [
    {
     "name": "stdout",
     "output_type": "stream",
     "text": [
      "4\n",
      "4.000\n",
      "True\n",
      "-1.00\n",
      "True\n",
      "+4.54\n",
      "True\n",
      "SomeRandomStuff\n",
      "False\n"
     ]
    }
   ],
   "source": [
    "# defectnfloating point number\n",
    "\n",
    "import re \n",
    "n=int(input())\n",
    "pattern=r'^[+ -]?[0-9]*\\.[0-9]+$'\n",
    "for i in range(n):\n",
    "    s=input()\n",
    "    print(bool(re.match(pattern,s)))\n",
    "\n",
    "\n",
    "# 4\n",
    "# 4.0O0\n",
    "# -1.00\n",
    "# +4.54\n",
    "# SomeRandomStuff"
   ]
  },
  {
   "cell_type": "code",
   "execution_count": 3,
   "metadata": {},
   "outputs": [
    {
     "name": "stdout",
     "output_type": "stream",
     "text": [
      "100,000,000,000\n",
      "100\n",
      "000\n",
      "000\n",
      "000\n"
     ]
    }
   ],
   "source": [
    "# re.split()\n",
    "\n",
    "regex_pattern = r\"[,.]\"\n",
    "import re\n",
    "print(\"\\n\".join(re.split(regex_pattern, input())))\n",
    "\n",
    "# 100,000,000.000"
   ]
  },
  {
   "cell_type": "code",
   "execution_count": 4,
   "metadata": {},
   "outputs": [
    {
     "name": "stdout",
     "output_type": "stream",
     "text": [
      "..12345678910111213141516171820212223\n",
      "1\n"
     ]
    }
   ],
   "source": [
    "# group(),groups(),groupdict()\n",
    "\n",
    "import re\n",
    "s=input()\n",
    "pattern=r'([a-z A-Z 0-9])\\1'\n",
    "m=re.search(pattern,s)\n",
    "# print(m.groups()[0])\n",
    "if m:\n",
    "    print(m.groups()[0])\n",
    "else:\n",
    "    print(-1)\n",
    "\n",
    "# ..12345678910111213141516171820212223"
   ]
  },
  {
   "cell_type": "code",
   "execution_count": 5,
   "metadata": {},
   "outputs": [
    {
     "name": "stdout",
     "output_type": "stream",
     "text": [
      "rabcdeefgyYhFjkIoomnpOeorteeeeet\n",
      "ee\n",
      "Ioo\n",
      "Oeo\n",
      "eeeee\n"
     ]
    }
   ],
   "source": [
    "# re.findall(),re.finditer()\n",
    "\n",
    "import re\n",
    "s=input()\n",
    "vowel='aeiou'\n",
    "conso='bcdfghjklmnpqrstvwxyz'\n",
    "list1=re.findall(r\"(?<=[%s])([%s]{2,})[%s]\"%(conso,vowel,conso) , s ,flags=re.IGNORECASE)\n",
    "# print(list1)\n",
    "# print('\\n'.join(list1 or -1))\n",
    "if list1==[]:\n",
    "    print(-1)\n",
    "else:\n",
    "    for i in list1:\n",
    "        print(i)\n",
    "\n",
    "# rabcdeefgyYhFjkIoomnpOeorteeeeet"
   ]
  },
  {
   "cell_type": "code",
   "execution_count": 6,
   "metadata": {},
   "outputs": [
    {
     "name": "stdout",
     "output_type": "stream",
     "text": [
      "aaadaa\n",
      "aa\n",
      "(0, 1)\n",
      "(1, 2)\n",
      "(4, 5)\n"
     ]
    }
   ],
   "source": [
    "# re.start(),re.end()\n",
    "\n",
    "import re\n",
    "s=input()\n",
    "k=input()\n",
    "pattern=re.compile(k)\n",
    "m=pattern.search(s)\n",
    "if not m:\n",
    "    print(\"(-1, -1)\")\n",
    "else:\n",
    "    while m:\n",
    "        print('({0}, {1})'.format(m.start(), m.end() - 1))\n",
    "        m=pattern.search(s, m.start() + 1)\n",
    "        \n",
    "# aaadaa\n",
    "# aa"
   ]
  },
  {
   "cell_type": "code",
   "execution_count": 7,
   "metadata": {},
   "outputs": [
    {
     "name": "stdout",
     "output_type": "stream",
     "text": [
      "11\n",
      "a=1;\n",
      "a=1;\n",
      "b=input();\n",
      "b=input();\n",
      "if a + b > 0 && a - b < 0:\n",
      "if a + b > 0 and a - b < 0:\n",
      "start()\n",
      "start()\n",
      "elif a*b > 10 || a/b < 1:\n",
      "elif a*b > 10 or a/b < 1:\n",
      "stop()\n",
      "stop()\n",
      "print set(list(a)) | set(list(b)) \n",
      "print set(list(a)) | set(list(b)) \n",
      "print set(list(a)) | set(list(b)) \n",
      "print set(list(a)) | set(list(b)) \n",
      "print set(list(a)) | set(list(b)) \n",
      "print set(list(a)) | set(list(b)) \n",
      "print set(list(a)) | set(list(b)) \n",
      "print set(list(a)) | set(list(b)) \n",
      "print set(list(a)) | set(list(b)) \n",
      "print set(list(a)) | set(list(b)) \n"
     ]
    }
   ],
   "source": [
    "# regex substitution \n",
    "\n",
    "import re\n",
    "pattern='(?<= )(&&|\\|\\|)(?= )'\n",
    "replacement=lambda x: \"and\" if x.group()==\"&&\" else \"or\"\n",
    "\n",
    "for i in range(int(input())):\n",
    "    s=input()\n",
    "    print(re.sub(pattern, replacement, s))\n",
    "    \n",
    "    \n",
    "# 11\n",
    "# a = 1;\n",
    "# b = input();\n",
    "\n",
    "# if a + b > 0 && a - b < 0:\n",
    "#     start()\n",
    "# elif a*b > 10 || a/b < 1:\n",
    "#     stop()\n",
    "# print set(list(a)) | set(list(b)) \n",
    "#Note do not change &&& or ||| or & or |\n",
    "#Only change those '&&' which have space on both sides.\n",
    "#Only change those '|| which have space on both sides."
   ]
  },
  {
   "cell_type": "code",
   "execution_count": 8,
   "metadata": {},
   "outputs": [
    {
     "name": "stdout",
     "output_type": "stream",
     "text": [
      "cdxxi\n",
      "False\n"
     ]
    }
   ],
   "source": [
    "# validating roman number\n",
    "\n",
    "regex_pattern = r\"M{0,3}(C[MD]|D?C{0,3})(X[CL]|L?X{0,3})(I[VX]|V?I{0,3})$\"\t# Do not delete 'r'.\n",
    "# print(re.findall(r'(NN)(?=(IN[^DT]))', txt))\n",
    "\n",
    "import re\n",
    "print(str(bool(re.match(regex_pattern, input()))))\n",
    "\n",
    "# CDXXI"
   ]
  },
  {
   "cell_type": "code",
   "execution_count": 9,
   "metadata": {},
   "outputs": [
    {
     "name": "stdout",
     "output_type": "stream",
     "text": [
      "2\n",
      "9587456281\n",
      "YES\n",
      "1252478965\n",
      "NO\n"
     ]
    }
   ],
   "source": [
    "# validating phone number\n",
    "\n",
    "import re\n",
    "def solve(contact):\n",
    "    \n",
    "    pattern=\"[789]\\d{9}$\"\n",
    "    if re.match(pattern, contact):\n",
    "        return \"YES\"\n",
    "    else:\n",
    "        return \"NO\"\n",
    "n=int(input())\n",
    "for i in range(n):\n",
    "    print(solve(input()))\n",
    "    \n",
    "# 2\n",
    "# 9587456281\n",
    "# 1252478965\n"
   ]
  },
  {
   "cell_type": "code",
   "execution_count": 10,
   "metadata": {},
   "outputs": [
    {
     "name": "stdout",
     "output_type": "stream",
     "text": [
      "11\n",
      "BED\n",
      "{\n",
      "color: #FfFdF8; background-color:#aef;\n",
      "#FfFdF8\n",
      "#aef\n",
      "font-size: 123px;\n",
      "background: -webkit-linear-gradient(top, #f9f9f9, #fff);\n",
      "#f9f9f9\n",
      "#fff\n",
      "}\n",
      "Cab\n",
      "{\n",
      " background-color: #ABC;\n",
      "#ABC\n",
      "border: 2px dashed #fff;\n",
      "#fff\n",
      "}\n"
     ]
    }
   ],
   "source": [
    "# hex color code\n",
    "\n",
    "import re\n",
    "in_css=False\n",
    "n=int(input())\n",
    "for _ in range(n):\n",
    "    line=input()\n",
    "    if '{' in line:\n",
    "        in_css=True\n",
    "    elif '}' in line:\n",
    "        in_css=False\n",
    "    elif in_css:\n",
    "        for color in re.findall('#[0-9a-fA-F]{3,6}',line):\n",
    "            print(color)\n",
    "            \n",
    "            \n",
    "# 11\n",
    "# #BED\n",
    "# {\n",
    "#     color: #FfFdF8; background-color:#aef;\n",
    "#     font-size: 123px;\n",
    "#     background: -webkit-linear-gradient(top, #f9f9f9, #fff);\n",
    "# }\n",
    "# #Cab\n",
    "# {\n",
    "#     background-color: #ABC;\n",
    "#     border: 2px dashed #fff;\n",
    "# }   "
   ]
  },
  {
   "cell_type": "code",
   "execution_count": null,
   "metadata": {},
   "outputs": [],
   "source": []
  },
  {
   "cell_type": "code",
   "execution_count": 13,
   "metadata": {},
   "outputs": [
    {
     "name": "stdout",
     "output_type": "stream",
     "text": [
      "110000\n",
      "False\n"
     ]
    }
   ],
   "source": [
    "# validating postal code\n",
    "\n",
    "regex_integer_in_range = r\"^[1-9][0-9]{5}$\"\t# Do not delete 'r'.\n",
    "regex_alternating_repetitive_digit_pair = r\"(\\d)(?=.\\1)\"\t# Do not delete 'r'.\n",
    "\n",
    "\n",
    "import re\n",
    "P = input()\n",
    "\n",
    "print (bool(re.match(regex_integer_in_range, P)) \n",
    "and len(re.findall(regex_alternating_repetitive_digit_pair, P)) < 2)"
   ]
  },
  {
   "cell_type": "code",
   "execution_count": 14,
   "metadata": {},
   "outputs": [
    {
     "name": "stdout",
     "output_type": "stream",
     "text": [
      "2\n",
      "b1cd102354\n",
      "Invalid\n",
      "Invalid\n",
      "Invalid\n",
      "Invalid\n",
      "Invalid\n",
      "Invalid\n",
      "Invalid\n",
      "Invalid\n",
      "Invalid\n",
      "Invalid\n",
      "b1cdef2354\n",
      "Invalid\n",
      "Invalid\n",
      "Invalid\n",
      "Invalid\n",
      "Invalid\n",
      "Invalid\n",
      "Invalid\n",
      "Invalid\n",
      "Invalid\n",
      "Invalid\n"
     ]
    }
   ],
   "source": [
    "# validating uid\n",
    "\n",
    "n=int(input())\n",
    "for i in range(n):\n",
    "    a=str(input())\n",
    "    # first condition\n",
    "    c=0   \n",
    "    for i in a:\n",
    "        if(i.isupper()):\n",
    "            c+=1\n",
    "        # second\n",
    "        if(c>1):\n",
    "            d=0\n",
    "            for j in a:\n",
    "                if(j.isnumeric()):\n",
    "                    d+=1\n",
    "            if(d>2):\n",
    "                # third\n",
    "                if(a.isalnum()):\n",
    "                    if(len(a)==10):\n",
    "                        t=0\n",
    "                        for k in a:\n",
    "                            for h in a:\n",
    "                                if(k==h):\n",
    "                                    t+=1\n",
    "                        if(t==10):\n",
    "                            print(\"Valid\")\n",
    "                        else:\n",
    "                            print(\"Invalid\")\n",
    "                    else:\n",
    "                        print(\"Invalid\")\n",
    "                else:\n",
    "                    print(\"Invalid\")\n",
    "            else:\n",
    "                print(\"Invalid\")\n",
    "        else:\n",
    "            print(\"Invalid\")\n",
    "                        \n",
    "                            \n",
    "# 2\n",
    "# B1CD102354\n",
    "# B1CDEF2354\n"
   ]
  },
  {
   "cell_type": "code",
   "execution_count": 15,
   "metadata": {},
   "outputs": [
    {
     "name": "stdout",
     "output_type": "stream",
     "text": [
      "6\n",
      "4123456789123456\n",
      "Valid\n",
      "5123-4567-8912-3456\n",
      "Valid\n",
      "61234-567-8912-3456\n",
      "Invalid\n",
      "4123356789123456\n",
      "Valid\n",
      "5133-3367-8912-3456\n",
      "Invalid\n",
      "5123 - 3567 - 8912 - 3456\n",
      "Invalid\n"
     ]
    }
   ],
   "source": [
    "# credit card number\n",
    "\n",
    "import re\n",
    "for _ in range(int(input())):\n",
    "    s = input()\n",
    "\n",
    "    if re.match(r\"^[456]([\\d]{15}|[\\d]{3}(-[\\d]{4}){3})$\", s) and not re.search(r\"([\\d])\\1\\1\\1\", s.replace(\"-\", \"\")):\n",
    "        print(\"Valid\")\n",
    "    else:\n",
    "        print(\"Invalid\")\n",
    "        \n",
    "# 6\n",
    "# 4123456789123456\n",
    "# 5123-4567-8912-3456\n",
    "# 61234-567-8912-3456\n",
    "# 4123356789123456\n",
    "# 5133-3367-8912-3456\n",
    "# 5123 - 3567 - 8912 - 3456"
   ]
  },
  {
   "cell_type": "code",
   "execution_count": null,
   "metadata": {},
   "outputs": [],
   "source": [
    "# matrix script\n",
    "\n",
    "import re\n",
    "n, m = map(int, input().split())\n",
    "arr = ''.join([''.join(t) for t in zip(*[input() for _ in range(n)])])\n",
    "print(re.sub(r'\\b[^a-zA-Z0-9]+\\b', r' ', arr))\n",
    "\n",
    "\n",
    "# This is Matrix#  %!"
   ]
  }
 ],
 "metadata": {
  "kernelspec": {
   "display_name": "Python 3",
   "language": "python",
   "name": "python3"
  },
  "language_info": {
   "codemirror_mode": {
    "name": "ipython",
    "version": 3
   },
   "file_extension": ".py",
   "mimetype": "text/x-python",
   "name": "python",
   "nbconvert_exporter": "python",
   "pygments_lexer": "ipython3",
   "version": "3.8.5"
  }
 },
 "nbformat": 4,
 "nbformat_minor": 4
}
