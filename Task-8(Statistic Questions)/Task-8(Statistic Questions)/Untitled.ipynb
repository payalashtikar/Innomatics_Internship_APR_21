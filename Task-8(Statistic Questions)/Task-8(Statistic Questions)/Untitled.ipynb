{
 "cells": [
  {
   "cell_type": "code",
   "execution_count": 1,
   "metadata": {},
   "outputs": [
    {
     "name": "stdout",
     "output_type": "stream",
     "text": [
      "1.09 1\n",
      "0.696\n"
     ]
    }
   ],
   "source": [
    "# binomial distribution 1\n",
    "\n",
    "def fact(n):\n",
    "    if n<=1:\n",
    "        return 1\n",
    "    else:\n",
    "        n = n*fact(n-1)\n",
    "        return n\n",
    "\n",
    "def combination(n,c):\n",
    "    return fact(n)/(fact(c)*fact(n-c))\n",
    "\n",
    "def binomial(n,c,p):\n",
    "    return combination(n,c)*pow(p,c)*pow(1-p,n-c)\n",
    "\n",
    "boy,girl=map(float, input().strip().split(' '))\n",
    "res=round(sum([binomial(6,i,boy/(boy+girl)) for i in range(3,7)]),3)\n",
    "print(res)\n",
    "\n",
    "# 1.09 1"
   ]
  },
  {
   "cell_type": "code",
   "execution_count": 2,
   "metadata": {},
   "outputs": [
    {
     "name": "stdout",
     "output_type": "stream",
     "text": [
      "12 10\n",
      "0.891\n",
      "0.342\n"
     ]
    }
   ],
   "source": [
    "# binomial distribution 2\n",
    "\n",
    "def fact(n):\n",
    "    if n<=1:\n",
    "        return 1\n",
    "    else:\n",
    "        n = n*fact(n-1)\n",
    "        return n\n",
    "\n",
    "def combination(n,c):\n",
    "    return fact(n)/(fact(c)*fact(n-c))\n",
    "\n",
    "def binomial(c,n,p):\n",
    "    return combination(n,c)*pow(p,c)*pow(1-p,n-c)\n",
    "\n",
    "p,n=list(map(int, input().split(' ')))\n",
    "x=round(sum([binomial(i,n,p/100) for i in range(3)]),3)\n",
    "print(x)\n",
    "y=round(sum([binomial(i,n,p/100) for i in range(2,n+1)]),3)\n",
    "print(y)\n",
    "\n",
    "# 12 10"
   ]
  },
  {
   "cell_type": "code",
   "execution_count": 3,
   "metadata": {},
   "outputs": [
    {
     "name": "stdout",
     "output_type": "stream",
     "text": [
      "0.401\n",
      "0.341\n"
     ]
    }
   ],
   "source": [
    "# normal distribution 1\n",
    "\n",
    "import math \n",
    "mean , std= 20,2\n",
    "X=lambda x: 0.5 *(1+ math.erf((x - mean) / (std * pow(2,0.5))))\n",
    "print('{:.3f}'.format(X(19.5)))\n",
    "print('{:.3f}'.format(X(22) - X(20)))\n",
    "\n",
    "# 20 2\n",
    "# 19.5\n",
    "# 20 22\n"
   ]
  },
  {
   "cell_type": "code",
   "execution_count": 4,
   "metadata": {},
   "outputs": [
    {
     "name": "stdout",
     "output_type": "stream",
     "text": [
      "15.87\n",
      "84.13\n",
      "15.87\n"
     ]
    }
   ],
   "source": [
    "# normal distribution 2\n",
    "\n",
    "import math\n",
    "mean,std=70,10\n",
    "X=lambda x: 0.5 *(1+ math.erf((x-mean)/(std*pow(2,0.5))))\n",
    "a=(1 - X(80))* 100\n",
    "print('{:.2f}'.format(a))\n",
    "b=(1- X(60))* 100\n",
    "print('{:.2f}'.format(b))\n",
    "c=X(60)*100\n",
    "print('{:.2f}'.format(c))\n",
    "\n",
    "# 70 10\n",
    "# 80\n",
    "# 60\n"
   ]
  },
  {
   "cell_type": "code",
   "execution_count": 5,
   "metadata": {},
   "outputs": [
    {
     "name": "stdout",
     "output_type": "stream",
     "text": [
      "9800\n",
      "49\n",
      "205\n",
      "15\n",
      "0.0098\n"
     ]
    }
   ],
   "source": [
    "# clt 1\n",
    "\n",
    "import math\n",
    "x=int(input())\n",
    "n=int(input())\n",
    "mu=int(input())\n",
    "sigma=int(input())\n",
    "add_of_mu = n * mu\n",
    "add_of_sigma = math.sqrt(n)*sigma\n",
    "def clt(x,mu,sigma):\n",
    "    z=(x-mu)/sigma\n",
    "    return 0.5*(1+math.erf(z/(math.sqrt(2))))\n",
    "res=round(clt(x,add_of_mu,add_of_sigma),4)\n",
    "print(res)\n",
    "    \n",
    "# 9800\n",
    "# 49\n",
    "# 205\n",
    "# 15"
   ]
  },
  {
   "cell_type": "code",
   "execution_count": 6,
   "metadata": {},
   "outputs": [
    {
     "name": "stdout",
     "output_type": "stream",
     "text": [
      "250\n",
      "100\n",
      "2.4\n",
      "2.0\n",
      "0.6915\n"
     ]
    }
   ],
   "source": [
    "# clt2\n",
    "\n",
    "import math\n",
    "x=int(input())\n",
    "n=int(input())\n",
    "mu=float(input())\n",
    "sigma=float(input())\n",
    "standard_dev=sigma*math.sqrt(n)\n",
    "cdf= 0.5*(1+ math.erf((x -mu* n)/(standard_dev*math.sqrt(2))))\n",
    "res=round(cdf,4)\n",
    "print(res)\n",
    "\n",
    "\n",
    "# 250\n",
    "# 100\n",
    "# 2.4\n",
    "# 2.0"
   ]
  },
  {
   "cell_type": "code",
   "execution_count": 7,
   "metadata": {},
   "outputs": [
    {
     "name": "stdout",
     "output_type": "stream",
     "text": [
      "100\n",
      "500\n",
      "80\n",
      "0.95\n",
      "1.96\n",
      "484.32\n",
      "515.68\n"
     ]
    }
   ],
   "source": [
    "# clt 3\n",
    "\n",
    "n=int(input())\n",
    "mu=int(input())\n",
    "std=int(input())\n",
    "dist=float(input())\n",
    "z=float(input())\n",
    "print(round(mu-(std/pow(n,0.5))*z,2))\n",
    "print(round(mu+(std/pow(n,0.5))*z,2))\n",
    "\n",
    "\n",
    "# 100\n",
    "# 500\n",
    "# 80\n",
    "# .95\n",
    "# 1.96"
   ]
  },
  {
   "cell_type": "code",
   "execution_count": null,
   "metadata": {},
   "outputs": [],
   "source": []
  }
 ],
 "metadata": {
  "kernelspec": {
   "display_name": "Python 3",
   "language": "python",
   "name": "python3"
  },
  "language_info": {
   "codemirror_mode": {
    "name": "ipython",
    "version": 3
   },
   "file_extension": ".py",
   "mimetype": "text/x-python",
   "name": "python",
   "nbconvert_exporter": "python",
   "pygments_lexer": "ipython3",
   "version": "3.8.5"
  }
 },
 "nbformat": 4,
 "nbformat_minor": 4
}
