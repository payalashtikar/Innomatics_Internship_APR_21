{
 "cells": [
  {
   "cell_type": "code",
   "execution_count": 1,
   "metadata": {},
   "outputs": [
    {
     "name": "stdout",
     "output_type": "stream",
     "text": [
      "1 2 3 4 -8 -10\n",
      "[-10.  -8.   4.   3.   2.   1.]\n"
     ]
    }
   ],
   "source": [
    "# Arrays\n",
    "\n",
    "import numpy\n",
    "\n",
    "def arrays(arr):\n",
    "    return numpy.array(arr[::-1],float)\n",
    "\n",
    "arr = input().strip().split(' ')\n",
    "result = arrays(arr)\n",
    "print(result)\n",
    "\n",
    "# Sample Input\n",
    "# 1 2 3 4 -8 -10"
   ]
  },
  {
   "cell_type": "code",
   "execution_count": 2,
   "metadata": {},
   "outputs": [
    {
     "name": "stdout",
     "output_type": "stream",
     "text": [
      "1 2 3 4 5 6 7 8 9\n",
      "[[1 2 3]\n",
      " [4 5 6]\n",
      " [7 8 9]]\n"
     ]
    }
   ],
   "source": [
    "# shape and reshape\n",
    "\n",
    "import numpy as np\n",
    "N=np.array(list(map(int,input().split())))\n",
    "\n",
    "N.shape=(3,3)\n",
    "print(N)\n",
    "\n",
    "# Sample Input\n",
    "# 1 2 3 4 5 6 7 8 9"
   ]
  },
  {
   "cell_type": "code",
   "execution_count": 7,
   "metadata": {},
   "outputs": [
    {
     "name": "stdout",
     "output_type": "stream",
     "text": [
      "4 3 2\n",
      "1 2\n",
      "1 2\n",
      "1 2\n",
      "1 2\n",
      "3 4\n",
      "3 4\n",
      "3 4\n",
      "[[1 2]\n",
      " [1 2]\n",
      " [1 2]\n",
      " [1 2]\n",
      " [3 4]\n",
      " [3 4]\n",
      " [3 4]]\n"
     ]
    }
   ],
   "source": [
    "# concatenate\n",
    "\n",
    "import numpy as np\n",
    "N, M, P = map(int,input().split())\n",
    "N_arr = np.array([input().split() for _ in range(N)],int)\n",
    "M_arr = np.array([input().split() for _ in range(M)],int)\n",
    "print(np.concatenate((N_arr, M_arr), axis = 0))\n",
    "\n",
    "\n",
    "# Sample Input\n",
    "# 4 3 2\n",
    "# 1 2\n",
    "# 1 2 \n",
    "# 1 2\n",
    "# 1 2\n",
    "# 3 4\n",
    "# 3 4\n",
    "# 3 4 "
   ]
  },
  {
   "cell_type": "code",
   "execution_count": 8,
   "metadata": {},
   "outputs": [
    {
     "name": "stdout",
     "output_type": "stream",
     "text": [
      "3 3 3\n",
      "[[[0 0 0]\n",
      "  [0 0 0]\n",
      "  [0 0 0]]\n",
      "\n",
      " [[0 0 0]\n",
      "  [0 0 0]\n",
      "  [0 0 0]]\n",
      "\n",
      " [[0 0 0]\n",
      "  [0 0 0]\n",
      "  [0 0 0]]]\n",
      "[[[1 1 1]\n",
      "  [1 1 1]\n",
      "  [1 1 1]]\n",
      "\n",
      " [[1 1 1]\n",
      "  [1 1 1]\n",
      "  [1 1 1]]\n",
      "\n",
      " [[1 1 1]\n",
      "  [1 1 1]\n",
      "  [1 1 1]]]\n"
     ]
    }
   ],
   "source": [
    "# zeros and ones\n",
    "\n",
    "import numpy as np\n",
    "N = tuple(map(int,input().strip().split()))\n",
    "zero = np.zeros(N, dtype=np.int)\n",
    "print (zero)\n",
    "one = np.ones(N, dtype=np.int)\n",
    "print (one)\n",
    "\n",
    "# sample ip\n",
    "# 3 3 3 "
   ]
  },
  {
   "cell_type": "code",
   "execution_count": 9,
   "metadata": {},
   "outputs": [
    {
     "name": "stdout",
     "output_type": "stream",
     "text": [
      "2 2\n",
      "1 2\n",
      "3 4\n",
      "[['1' '3']\n",
      " ['2' '4']]\n",
      "['1' '2' '3' '4']\n"
     ]
    }
   ],
   "source": [
    "# transpose and flatten\n",
    "\n",
    "import numpy as np\n",
    "n,m=map(int,input().split())\n",
    "arr=np.array([input().strip().split() for _ in range(n)])\n",
    "print(arr.transpose())\n",
    "print(arr.flatten())\n",
    "\n",
    "# Sample Input\n",
    "# 2 2\n",
    "# 1 2\n",
    "# 3 4"
   ]
  },
  {
   "cell_type": "code",
   "execution_count": 10,
   "metadata": {},
   "outputs": [
    {
     "name": "stdout",
     "output_type": "stream",
     "text": [
      "3 3\n",
      "[[ 1.  0.  0.]\n",
      " [ 0.  1.  0.]\n",
      " [ 0.  0.  1.]]\n"
     ]
    }
   ],
   "source": [
    "# eye and identity\n",
    "\n",
    "import numpy as np\n",
    "np.set_printoptions(sign=' ')\n",
    "n,m=map(int, input().split())\n",
    "# m=map(int, input().split())\n",
    "res=np.eye(n,m)\n",
    "print(res)\n",
    "\n",
    "# sample ip\n",
    "# 3 3"
   ]
  },
  {
   "cell_type": "code",
   "execution_count": 14,
   "metadata": {},
   "outputs": [
    {
     "name": "stdout",
     "output_type": "stream",
     "text": [
      "1 4\n",
      "1 2 3 4\n",
      "5 6 7 8\n",
      "[[ 6  8 10 12]]\n",
      "[[-4 -4 -4 -4]]\n",
      "[[ 5 12 21 32]]\n",
      "[[0 0 0 0]]\n",
      "[[1 2 3 4]]\n",
      "[[    1    64  2187 65536]]\n"
     ]
    }
   ],
   "source": [
    "# import numpy as np\n",
    "N,M=map(int,input().split())\n",
    "# M=np.array(input().split())\n",
    "\n",
    "A = np.array([input().split() for _ in range(N)], int)\n",
    "B = np.array([input().split() for _ in range(N)], int)\n",
    "\n",
    "print(A+B)\n",
    "print(A-B)\n",
    "print(A*B)\n",
    "print(np.array(A/B,int))\n",
    "print(A%B)\n",
    "print(A**B)\n",
    "\n",
    "\n",
    "# sample ip\n",
    "# 1 4\n",
    "# 1 2 3 4\n",
    "# 5 6 7 8"
   ]
  },
  {
   "cell_type": "code",
   "execution_count": 15,
   "metadata": {},
   "outputs": [
    {
     "name": "stdout",
     "output_type": "stream",
     "text": [
      "1.1 2.2 3.3 4.4 5.5 6.6 7.7 8.8 9.9\n",
      "[ 1.  2.  3.  4.  5.  6.  7.  8.  9.]\n",
      "[  2.   3.   4.   5.   6.   7.   8.   9.  10.]\n",
      "[  1.   2.   3.   4.   6.   7.   8.   9.  10.]\n"
     ]
    }
   ],
   "source": [
    "# floor,ceil,rint\n",
    "\n",
    "import numpy as np\n",
    "np.set_printoptions(sign=' ')\n",
    "A = np.array(input().split(), float)\n",
    "print(np.floor(A))\n",
    "print(np.ceil(A))\n",
    "print(np.rint(A))\n",
    "\n",
    "\n",
    "# Sample Input\n",
    "# 1.1 2.2 3.3 4.4 5.5 6.6 7.7 8.8 9.9"
   ]
  },
  {
   "cell_type": "code",
   "execution_count": 16,
   "metadata": {},
   "outputs": [
    {
     "name": "stdout",
     "output_type": "stream",
     "text": [
      "2 2\n",
      "1 2\n",
      "3 4\n",
      "24\n"
     ]
    }
   ],
   "source": [
    "# sum and prod\n",
    "\n",
    "import numpy as np\n",
    "N,M=map(int,input().split())\n",
    "arr=np.array([input().split() for _ in range(N)] , dtype=int)\n",
    "print(np.prod(np.sum(arr,axis=0)))\n",
    "\n",
    "# Sample Input\n",
    "# 2 2\n",
    "# 1 2\n",
    "# 3 4"
   ]
  },
  {
   "cell_type": "code",
   "execution_count": 22,
   "metadata": {},
   "outputs": [
    {
     "name": "stdout",
     "output_type": "stream",
     "text": [
      "2 2\n",
      "1 2\n",
      "3 4\n",
      "[ 1.5  3.5]\n",
      "[ 1.  1.]\n",
      "1.11803398875\n"
     ]
    }
   ],
   "source": [
    "# mean , var , std\n",
    "\n",
    "import numpy as np\n",
    "n,m=map(int,input().split())\n",
    "\n",
    "arr=np.array([input().split() for _ in range(n)] , float)\n",
    "\n",
    "print(np.mean(arr,axis=1))\n",
    "print(np.var(arr,axis=0))\n",
    "print(round(np.std(arr,axis=None),11))\n",
    "\n",
    "# Sample Input\n",
    "# 2 2\n",
    "# 1 2\n",
    "# 3 4"
   ]
  },
  {
   "cell_type": "code",
   "execution_count": 23,
   "metadata": {},
   "outputs": [
    {
     "name": "stdout",
     "output_type": "stream",
     "text": [
      "2\n",
      "1 2\n",
      "3 4\n",
      "1 2\n",
      "3 4\n",
      "[[ 7 10]\n",
      " [15 22]]\n"
     ]
    }
   ],
   "source": [
    "#dot and cross \n",
    "\n",
    "import numpy as np\n",
    "n= int(input())\n",
    "a = np.array([input().split() for _ in range(n)],int)\n",
    "b = np.array([input().split() for _ in range(n)],int)\n",
    "res=np.dot(a,b)\n",
    "print(res)\n",
    "\n",
    "# Sample Input\n",
    "# 2\n",
    "# 1 2\n",
    "# 3 4\n",
    "# 1 2\n",
    "# 3 4\n"
   ]
  },
  {
   "cell_type": "code",
   "execution_count": 24,
   "metadata": {},
   "outputs": [
    {
     "name": "stdout",
     "output_type": "stream",
     "text": [
      "0 1\n",
      "2 3\n",
      "3\n",
      "[[0 0]\n",
      " [2 3]]\n"
     ]
    }
   ],
   "source": [
    "# inner and outer\n",
    "\n",
    "import numpy as np\n",
    "A=np.array(input().split(),int)\n",
    "B=np.array(input().split(),int)\n",
    "print(np.inner(A,B),sep='\\n')\n",
    "print(np.outer(A,B),sep='\\n')\n",
    "\n",
    "\n",
    "# Sample Input\n",
    "# 0 1\n",
    "# 2 3"
   ]
  },
  {
   "cell_type": "code",
   "execution_count": 25,
   "metadata": {},
   "outputs": [
    {
     "name": "stdout",
     "output_type": "stream",
     "text": [
      "1.1 2 3\n",
      "0 \n",
      "3.0\n"
     ]
    }
   ],
   "source": [
    "# polynomials\n",
    "\n",
    "import numpy as np\n",
    "p = list(map(float, input().split()))\n",
    "x=np.polyval(p, float(input()))\n",
    "print(x)\n",
    "\n",
    "# Sample Input\n",
    "# 1.1 2 3\n",
    "# 0"
   ]
  },
  {
   "cell_type": "code",
   "execution_count": 26,
   "metadata": {},
   "outputs": [
    {
     "name": "stdout",
     "output_type": "stream",
     "text": [
      "2\n",
      "1.1 1.1\n",
      "1.1 1.1\n",
      "0.0\n"
     ]
    }
   ],
   "source": [
    "# linear algebra\n",
    "\n",
    "import numpy as np\n",
    "np.set_printoptions(legacy='1.13')\n",
    "N=int(input())\n",
    "A=np.array([input().split() for _ in range(N)],float)\n",
    "print(np.linalg.det(A))\n",
    "\n",
    "# Sample Input\n",
    "# 2\n",
    "# 1.1 1.1\n",
    "# 1.1 1.1"
   ]
  },
  {
   "cell_type": "code",
   "execution_count": null,
   "metadata": {},
   "outputs": [],
   "source": []
  }
 ],
 "metadata": {
  "kernelspec": {
   "display_name": "Python 3",
   "language": "python",
   "name": "python3"
  },
  "language_info": {
   "codemirror_mode": {
    "name": "ipython",
    "version": 3
   },
   "file_extension": ".py",
   "mimetype": "text/x-python",
   "name": "python",
   "nbconvert_exporter": "python",
   "pygments_lexer": "ipython3",
   "version": "3.8.5"
  }
 },
 "nbformat": 4,
 "nbformat_minor": 4
}
